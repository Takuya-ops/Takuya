{
 "cells": [
  {
   "cell_type": "markdown",
   "id": "7d60dc2c",
   "metadata": {},
   "source": [
    "# 鬼の100本ノック"
   ]
  },
  {
   "cell_type": "code",
   "execution_count": 1,
   "id": "b0068861",
   "metadata": {},
   "outputs": [
    {
     "name": "stdout",
     "output_type": "stream",
     "text": [
      "altair==4.2.0\r\n",
      "appnope==0.1.2\r\n",
      "argon2-cffi==21.3.0\r\n",
      "argon2-cffi-bindings==21.2.0\r\n",
      "astor==0.8.1\r\n",
      "asttokens==2.0.5\r\n",
      "async-generator==1.10\r\n",
      "attrs==21.4.0\r\n",
      "backcall==0.2.0\r\n",
      "base58==2.1.1\r\n",
      "black==22.1.0\r\n",
      "bleach==4.1.0\r\n",
      "blinker==1.4\r\n",
      "Brotli==1.0.9\r\n",
      "cachetools==5.0.0\r\n",
      "certifi==2021.10.8\r\n",
      "cffi==1.15.0\r\n",
      "charset-normalizer==2.0.11\r\n",
      "click==8.0.3\r\n",
      "cryptography==36.0.1\r\n",
      "dash==2.1.0\r\n",
      "dash-core-components==2.0.0\r\n",
      "dash-html-components==2.0.0\r\n",
      "dash-table==5.0.0\r\n",
      "debugpy==1.5.1\r\n",
      "decorator==5.1.1\r\n",
      "defusedxml==0.7.1\r\n",
      "entrypoints==0.4\r\n",
      "executing==0.8.2\r\n",
      "Flask==2.0.2\r\n",
      "Flask-Compress==1.10.1\r\n",
      "gitdb==4.0.9\r\n",
      "GitPython==3.1.26\r\n",
      "h11==0.13.0\r\n",
      "idna==3.3\r\n",
      "ipykernel==6.9.0\r\n",
      "ipython==8.0.1\r\n",
      "ipython-genutils==0.2.0\r\n",
      "ipywidgets==7.6.5\r\n",
      "itsdangerous==2.0.1\r\n",
      "jedi==0.18.1\r\n",
      "Jinja2==3.0.3\r\n",
      "jsonschema==4.4.0\r\n",
      "jupyter-client==7.1.2\r\n",
      "jupyter-core==4.9.1\r\n",
      "jupyterlab-pygments==0.1.2\r\n",
      "jupyterlab-widgets==1.0.2\r\n",
      "MarkupSafe==2.0.1\r\n",
      "matplotlib-inline==0.1.3\r\n",
      "mistune==0.8.4\r\n",
      "mypy-extensions==0.4.3\r\n",
      "nbclient==0.5.10\r\n",
      "nbconvert==6.4.1\r\n",
      "nbformat==5.1.3\r\n",
      "nest-asyncio==1.5.4\r\n",
      "notebook==6.4.8\r\n",
      "numpy==1.22.2\r\n",
      "outcome==1.1.0\r\n",
      "packaging==21.3\r\n",
      "pandas==1.4.0\r\n",
      "pandocfilters==1.5.0\r\n",
      "parso==0.8.3\r\n",
      "pathspec==0.9.0\r\n",
      "pexpect==4.8.0\r\n",
      "pickleshare==0.7.5\r\n",
      "Pillow==9.0.1\r\n",
      "platformdirs==2.4.1\r\n",
      "plotly==5.5.0\r\n",
      "prometheus-client==0.13.1\r\n",
      "prompt-toolkit==3.0.27\r\n",
      "protobuf==3.17.3\r\n",
      "ptyprocess==0.7.0\r\n",
      "pure-eval==0.2.2\r\n",
      "pyarrow==7.0.0\r\n",
      "pycparser==2.21\r\n",
      "pydeck==0.7.1\r\n",
      "Pygments==2.11.2\r\n",
      "Pympler==1.0.1\r\n",
      "pyOpenSSL==22.0.0\r\n",
      "pyparsing==3.0.7\r\n",
      "pyrsistent==0.18.1\r\n",
      "python-dateutil==2.8.2\r\n",
      "pytz==2021.3\r\n",
      "pytz-deprecation-shim==0.1.0.post0\r\n",
      "pyzmq==22.3.0\r\n",
      "requests==2.27.1\r\n",
      "selenium==4.1.0\r\n",
      "Send2Trash==1.8.0\r\n",
      "six==1.16.0\r\n",
      "smmap==5.0.0\r\n",
      "sniffio==1.2.0\r\n",
      "sortedcontainers==2.4.0\r\n",
      "stack-data==0.1.4\r\n",
      "streamlit==1.5.0\r\n",
      "tenacity==8.0.1\r\n",
      "terminado==0.13.1\r\n",
      "testpath==0.5.0\r\n",
      "toml==0.10.2\r\n",
      "tomli==2.0.1\r\n",
      "toolz==0.11.2\r\n",
      "tornado==6.1\r\n",
      "traitlets==5.1.1\r\n",
      "trio==0.19.0\r\n",
      "trio-websocket==0.9.2\r\n",
      "typing_extensions==4.0.1\r\n",
      "tzdata==2021.5\r\n",
      "tzlocal==4.1\r\n",
      "urllib3==1.26.8\r\n",
      "validators==0.18.2\r\n",
      "vega-datasets==0.9.0\r\n",
      "wcwidth==0.2.5\r\n",
      "webencodings==0.5.1\r\n",
      "Werkzeug==2.0.3\r\n",
      "widgetsnbextension==3.5.2\r\n",
      "wsproto==1.0.0\r\n"
     ]
    }
   ],
   "source": [
    "# パーケージの確認\n",
    "!pip3 freeze"
   ]
  },
  {
   "cell_type": "code",
   "execution_count": 4,
   "id": "dba8c12d",
   "metadata": {},
   "outputs": [
    {
     "data": {
      "text/plain": [
       "'私の名前はグッチです。出身は岐阜です。'"
      ]
     },
     "execution_count": 4,
     "metadata": {},
     "output_type": "execute_result"
    }
   ],
   "source": [
    "# 文字列の代入\n",
    "Name = 'グッチ'\n",
    "Birthplace = '岐阜'\n",
    "\n",
    "'私の名前は{}です。出身は{}です。'.format(Name, Birthplace)"
   ]
  },
  {
   "cell_type": "code",
   "execution_count": 5,
   "id": "66b4b57b",
   "metadata": {},
   "outputs": [
    {
     "data": {
      "text/plain": [
       "'私の名前はグッチです。出身は岐阜です。'"
      ]
     },
     "execution_count": 5,
     "metadata": {},
     "output_type": "execute_result"
    }
   ],
   "source": [
    "f'私の名前は{Name}です。出身は{Birthplace}です。'"
   ]
  },
  {
   "cell_type": "code",
   "execution_count": 6,
   "id": "13a0a4dc",
   "metadata": {},
   "outputs": [
    {
     "name": "stdout",
     "output_type": "stream",
     "text": [
      "今日は駅前のパスタを食べに行こう。\n",
      "ナポリタンがおすすめみたい。\n"
     ]
    }
   ],
   "source": [
    "# エスケープシーケンス\n",
    "print('今日は駅前のパスタを食べに行こう。\\nナポリタンがおすすめみたい。')"
   ]
  },
  {
   "cell_type": "code",
   "execution_count": 7,
   "id": "7de0cdd1",
   "metadata": {},
   "outputs": [
    {
     "name": "stdout",
     "output_type": "stream",
     "text": [
      "10進数=16, 16進数=10, 10進浮動小数点=16.000000\n"
     ]
    }
   ],
   "source": [
    "# 書式化\n",
    "print('10進数=%d, 16進数=%x, 10進浮動小数点=%f' % (16, 16, 16))"
   ]
  },
  {
   "cell_type": "code",
   "execution_count": 10,
   "id": "65746cd8",
   "metadata": {},
   "outputs": [
    {
     "data": {
      "text/plain": [
       "'HELLO'"
      ]
     },
     "execution_count": 10,
     "metadata": {},
     "output_type": "execute_result"
    }
   ],
   "source": [
    "# 大文字・小文字への変換\n",
    "'hello'.upper()"
   ]
  },
  {
   "cell_type": "code",
   "execution_count": 11,
   "id": "b267a773",
   "metadata": {},
   "outputs": [
    {
     "data": {
      "text/plain": [
       "'world'"
      ]
     },
     "execution_count": 11,
     "metadata": {},
     "output_type": "execute_result"
    }
   ],
   "source": [
    "'WORLD'.lower()"
   ]
  },
  {
   "cell_type": "code",
   "execution_count": 14,
   "id": "ddbb128a",
   "metadata": {},
   "outputs": [
    {
     "name": "stdout",
     "output_type": "stream",
     "text": [
      "この店のペペロンチーノは絶品です。\n",
      "ぜひ行ってみてください。\n"
     ]
    }
   ],
   "source": [
    "# 文字列の分割\n",
    "message = 'この店のペペロンチーノは絶品です。\\nぜひ行ってみてください。'\n",
    "print(message)"
   ]
  },
  {
   "cell_type": "code",
   "execution_count": 16,
   "id": "25c2979d",
   "metadata": {},
   "outputs": [
    {
     "data": {
      "text/plain": [
       "['この店のペペロンチーノは絶品です。', 'ぜひ行ってみてください。']"
      ]
     },
     "execution_count": 16,
     "metadata": {},
     "output_type": "execute_result"
    }
   ],
   "source": [
    "message.split('\\n')"
   ]
  },
  {
   "cell_type": "code",
   "execution_count": 17,
   "id": "d2061b5e",
   "metadata": {},
   "outputs": [
    {
     "data": {
      "text/plain": [
       "'この店のペペロンチーノは絶品です。食べログ3.5です。ぜひ行ってみてください。'"
      ]
     },
     "execution_count": 17,
     "metadata": {},
     "output_type": "execute_result"
    }
   ],
   "source": [
    "# 文字列の結合\n",
    "messages = message.split('\\n')\n",
    "'食べログ3.5です。'.join(messages)"
   ]
  },
  {
   "cell_type": "code",
   "execution_count": 22,
   "id": "8bc811d6",
   "metadata": {},
   "outputs": [
    {
     "name": "stdout",
     "output_type": "stream",
     "text": [
      "　リュージのバズレシピ　\n"
     ]
    }
   ],
   "source": [
    "# 空白除去\n",
    "message = '　リュージのバズレシピ　'\n",
    "print(message)"
   ]
  },
  {
   "cell_type": "code",
   "execution_count": 23,
   "id": "91a67a51",
   "metadata": {},
   "outputs": [
    {
     "name": "stdout",
     "output_type": "stream",
     "text": [
      "リュージのバズレシピ\n"
     ]
    }
   ],
   "source": [
    "print(message.strip())"
   ]
  },
  {
   "cell_type": "code",
   "execution_count": 27,
   "id": "47c447ec",
   "metadata": {},
   "outputs": [
    {
     "name": "stdout",
     "output_type": "stream",
     "text": [
      "明日は夕方から雪となるでしょう。\n"
     ]
    }
   ],
   "source": [
    "# 文字列の置換\n",
    "message = '明日は夕方から雪となるでしょう。'\n",
    "print(message)"
   ]
  },
  {
   "cell_type": "code",
   "execution_count": 28,
   "id": "c9d3d044",
   "metadata": {},
   "outputs": [
    {
     "data": {
      "text/plain": [
       "'明日は夜遅くから雪となるでしょう。'"
      ]
     },
     "execution_count": 28,
     "metadata": {},
     "output_type": "execute_result"
    }
   ],
   "source": [
    "message.replace('夕方', '夜遅く')"
   ]
  },
  {
   "cell_type": "code",
   "execution_count": 29,
   "id": "415bf29c",
   "metadata": {},
   "outputs": [
    {
     "data": {
      "text/plain": [
       "7"
      ]
     },
     "execution_count": 29,
     "metadata": {},
     "output_type": "execute_result"
    }
   ],
   "source": [
    "# 文字列検索\n",
    "message = 'この海岸からの夕日は絶景だ！'\n",
    "message.find('夕日')"
   ]
  },
  {
   "cell_type": "code",
   "execution_count": 30,
   "id": "02d1b4c4",
   "metadata": {},
   "outputs": [
    {
     "data": {
      "text/plain": [
       "'1'"
      ]
     },
     "execution_count": 30,
     "metadata": {},
     "output_type": "execute_result"
    }
   ],
   "source": [
    "# 型変換\n",
    "x = 1\n",
    "str(x)"
   ]
  },
  {
   "cell_type": "code",
   "execution_count": 31,
   "id": "2e3d80b9",
   "metadata": {},
   "outputs": [
    {
     "data": {
      "text/plain": [
       "'1.25'"
      ]
     },
     "execution_count": 31,
     "metadata": {},
     "output_type": "execute_result"
    }
   ],
   "source": [
    "x = 1.25\n",
    "str(x)"
   ]
  },
  {
   "cell_type": "code",
   "execution_count": 32,
   "id": "446f1c58",
   "metadata": {},
   "outputs": [
    {
     "data": {
      "text/plain": [
       "1.25"
      ]
     },
     "execution_count": 32,
     "metadata": {},
     "output_type": "execute_result"
    }
   ],
   "source": [
    "x"
   ]
  },
  {
   "cell_type": "code",
   "execution_count": 33,
   "id": "78081b92",
   "metadata": {},
   "outputs": [
    {
     "data": {
      "text/plain": [
       "'[3, 4, 5]'"
      ]
     },
     "execution_count": 33,
     "metadata": {},
     "output_type": "execute_result"
    }
   ],
   "source": [
    "x = [3, 4, 5]\n",
    "str(x)"
   ]
  },
  {
   "cell_type": "code",
   "execution_count": 34,
   "id": "1e6784a2",
   "metadata": {},
   "outputs": [
    {
     "data": {
      "text/plain": [
       "\"{'name': 'Mike', 'birth': 'UK'}\""
      ]
     },
     "execution_count": 34,
     "metadata": {},
     "output_type": "execute_result"
    }
   ],
   "source": [
    "x = dict(name='Mike', birth='UK')\n",
    "str(x)"
   ]
  },
  {
   "cell_type": "code",
   "execution_count": 36,
   "id": "448d6182",
   "metadata": {},
   "outputs": [
    {
     "data": {
      "text/plain": [
       "False"
      ]
     },
     "execution_count": 36,
     "metadata": {},
     "output_type": "execute_result"
    }
   ],
   "source": [
    "# 包含関係\n",
    "a, b = 'コンビニのソフトクリームはミニストップが一番美味しい。', 'ミニストップ'\n",
    "a in b"
   ]
  },
  {
   "cell_type": "code",
   "execution_count": 37,
   "id": "b522170b",
   "metadata": {},
   "outputs": [
    {
     "data": {
      "text/plain": [
       "True"
      ]
     },
     "execution_count": 37,
     "metadata": {},
     "output_type": "execute_result"
    }
   ],
   "source": [
    "b in a"
   ]
  },
  {
   "cell_type": "code",
   "execution_count": 38,
   "id": "89fefcec",
   "metadata": {},
   "outputs": [
    {
     "data": {
      "text/plain": [
       "False"
      ]
     },
     "execution_count": 38,
     "metadata": {},
     "output_type": "execute_result"
    }
   ],
   "source": [
    "a, b = 'コンビニのソフトクリームはミニストップが一番美味しい。', 'セブンイレブン'\n",
    "b in a"
   ]
  },
  {
   "cell_type": "code",
   "execution_count": 46,
   "id": "83350e46",
   "metadata": {},
   "outputs": [],
   "source": [
    "# 特定の値の抽出\n",
    "numbers = [1, 5, 2, -1, -9, -5]"
   ]
  },
  {
   "cell_type": "code",
   "execution_count": 47,
   "id": "addaa2a1",
   "metadata": {},
   "outputs": [
    {
     "data": {
      "text/plain": [
       "5"
      ]
     },
     "execution_count": 47,
     "metadata": {},
     "output_type": "execute_result"
    }
   ],
   "source": [
    "numbers[1]"
   ]
  },
  {
   "cell_type": "code",
   "execution_count": 48,
   "id": "e1863786",
   "metadata": {},
   "outputs": [
    {
     "data": {
      "text/plain": [
       "-5"
      ]
     },
     "execution_count": 48,
     "metadata": {},
     "output_type": "execute_result"
    }
   ],
   "source": [
    "numbers[-1]"
   ]
  },
  {
   "cell_type": "code",
   "execution_count": 49,
   "id": "fb219d40",
   "metadata": {},
   "outputs": [
    {
     "name": "stdout",
     "output_type": "stream",
     "text": [
      "[1, 5, 2, -1, -9, -5, 10]\n"
     ]
    }
   ],
   "source": [
    "numbers.append(10)\n",
    "print(numbers)"
   ]
  },
  {
   "cell_type": "code",
   "execution_count": 50,
   "id": "18f0f586",
   "metadata": {},
   "outputs": [
    {
     "name": "stdout",
     "output_type": "stream",
     "text": [
      "[6, 1, 5, 2, -1, -9, -5, 10]\n"
     ]
    }
   ],
   "source": [
    "numbers.insert(0, 6)\n",
    "print(numbers)"
   ]
  },
  {
   "cell_type": "code",
   "execution_count": 51,
   "id": "4340562f",
   "metadata": {},
   "outputs": [
    {
     "name": "stdout",
     "output_type": "stream",
     "text": [
      "[6, 1, 5, 2, -1, -9, -5, -8, 10]\n"
     ]
    }
   ],
   "source": [
    "numbers.insert(-1, -8)\n",
    "print(numbers)"
   ]
  },
  {
   "cell_type": "code",
   "execution_count": 52,
   "id": "0043a9a8",
   "metadata": {},
   "outputs": [
    {
     "name": "stdout",
     "output_type": "stream",
     "text": [
      "[6, 1, 5, 2, -1, -9, -5, -8, 1, 10]\n"
     ]
    }
   ],
   "source": [
    "numbers.insert(-1, 1)\n",
    "print(numbers)"
   ]
  },
  {
   "cell_type": "code",
   "execution_count": 53,
   "id": "226bccbf",
   "metadata": {},
   "outputs": [
    {
     "name": "stdout",
     "output_type": "stream",
     "text": [
      "[6, 5, 2, -1, -9, -5, -8, 1, 10]\n"
     ]
    }
   ],
   "source": [
    "numbers.remove(1)\n",
    "print(numbers)"
   ]
  },
  {
   "cell_type": "code",
   "execution_count": 54,
   "id": "5f2f0cb6",
   "metadata": {},
   "outputs": [
    {
     "name": "stdout",
     "output_type": "stream",
     "text": [
      "[6, 5, 2, -1, -9, -5, -8, 10]\n"
     ]
    }
   ],
   "source": [
    "numbers.pop(-2)\n",
    "print(numbers)"
   ]
  },
  {
   "cell_type": "code",
   "execution_count": null,
   "id": "0fe6640d",
   "metadata": {},
   "outputs": [],
   "source": []
  }
 ],
 "metadata": {
  "kernelspec": {
   "display_name": "Python 3 (ipykernel)",
   "language": "python",
   "name": "python3"
  },
  "language_info": {
   "codemirror_mode": {
    "name": "ipython",
    "version": 3
   },
   "file_extension": ".py",
   "mimetype": "text/x-python",
   "name": "python",
   "nbconvert_exporter": "python",
   "pygments_lexer": "ipython3",
   "version": "3.7.11"
  }
 },
 "nbformat": 4,
 "nbformat_minor": 5
}
